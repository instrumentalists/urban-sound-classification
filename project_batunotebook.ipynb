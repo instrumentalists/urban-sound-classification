{
  "cells": [
    {
      "cell_type": "markdown",
      "metadata": {},
      "source": [
        "Importing libraries"
      ]
    },
    {
      "cell_type": "code",
      "execution_count": 19,
      "metadata": {},
      "outputs": [],
      "source": [
        "#define PATH_DATASET /home/sbvatan/Documents/Python/DL_bootcamp/Project/UrbanSound8K\n",
        "import tensorflow as tf\n",
        "import numpy as np\n",
        "import pandas as pd\n",
        "import matplotlib.pyplot as plt\n",
        "from matplotlib.backends.backend_agg import FigureCanvasAgg as FigureCanvas\n",
        "import librosa as rosa\n",
        "import librosa.display as rosaDisp\n",
        "from sklearn.model_selection import KFold\n",
        "from sklearn.metrics import accuracy_score\n",
        "import cv2\n",
        "import os\n",
        "import csv\n",
        "import glob"
      ]
    },
    {
      "cell_type": "markdown",
      "metadata": {},
      "source": [
        "Read CSV, maybe useful later"
      ]
    },
    {
      "cell_type": "code",
      "execution_count": 20,
      "metadata": {},
      "outputs": [],
      "source": [
        "dataCSV = pd.read_csv(\"UrbanSound8K/metadata/UrbanSound8K.csv\")"
      ]
    },
    {
      "cell_type": "markdown",
      "metadata": {},
      "source": [
        "Read the .wav file using librosa; refs:\n",
        "https://librosa.org/doc/main/generated/librosa.load.html"
      ]
    },
    {
      "cell_type": "code",
      "execution_count": 21,
      "metadata": {},
      "outputs": [],
      "source": [
        "def read(filePath):\n",
        "    audio , audioSr= rosa.load(filePath,sr=11025)\n",
        "    return (audio , audioSr)"
      ]
    },
    {
      "cell_type": "markdown",
      "metadata": {},
      "source": [
        "Trying to implement spectrogram function; "
      ]
    },
    {
      "cell_type": "code",
      "execution_count": 22,
      "metadata": {},
      "outputs": [],
      "source": [
        "def createSpectrogram(audio , audioSr):\n",
        "    spec_conv = rosa.amplitude_to_db(rosa.feature.melspectrogram(audio, sr=audioSr, n_mels=128),ref=np.max)\n",
        "    return spec_conv"
      ]
    },
    {
      "cell_type": "markdown",
      "metadata": {},
      "source": [
        "Display spectogram; refs:\n",
        "https://github.com/SultanSaribas/SpeechRecognition/blob/master/CNN/CNN"
      ]
    },
    {
      "cell_type": "code",
      "execution_count": 23,
      "metadata": {},
      "outputs": [],
      "source": [
        "def displaySpectogram(spectogram):\n",
        "    rosaDisp.specshow(spectogram, x_axis='time', y_axis='mel')\n",
        "    plt.colorbar(format='%+2.0f dB')"
      ]
    },
    {
      "cell_type": "markdown",
      "metadata": {},
      "source": [
        "Save spectogram as image file; refs:\n",
        "https://stackoverflow.com/questions/52432731/store-the-spectrogram-as-image-in-python"
      ]
    },
    {
      "cell_type": "code",
      "execution_count": 24,
      "metadata": {},
      "outputs": [],
      "source": [
        "def spectogramSave(dirPath,fileName,audio):\n",
        "    saveDirPath=dirPath.replace(\"audio\",\"spectogram\")\n",
        "    savefileName = fileName.replace(\".wav\",\".png\")\n",
        "    \n",
        "    window_size = 1024\n",
        "    window = np.hanning(window_size)\n",
        "    stft  = rosa.core.spectrum.stft(audio, n_fft=window_size, hop_length=512, window=window)\n",
        "    out = 2 * np.abs(stft) / np.sum(window)\n",
        "\n",
        "    fig = plt.Figure()\n",
        "    canvas = FigureCanvas(fig)\n",
        "    ax = fig.add_subplot(111)\n",
        "    p = rosaDisp.specshow(rosa.amplitude_to_db(out, ref=np.max), ax=ax, y_axis='log', x_axis='time')\n",
        "    fig.savefig(saveDirPath+\"/\"+savefileName)\n"
      ]
    },
    {
      "cell_type": "markdown",
      "metadata": {},
      "source": [
        "Create, display and save spectogram; refs: \n",
        "https://stackoverflow.com/questions/8384737/extract-file-name-from-path-no-matter-what-the-os-path-format"
      ]
    },
    {
      "cell_type": "code",
      "execution_count": 25,
      "metadata": {},
      "outputs": [
        {
          "name": "stderr",
          "output_type": "stream",
          "text": [
            "/home/sbvatan/.local/lib/python3.6/site-packages/ipykernel_launcher.py:2: FutureWarning: Pass y=[-9.7086398e-05 -1.8610415e-04 -1.4090347e-04 ... -4.0238660e-02\n",
            " -4.2696159e-02 -5.0760370e-02] as keyword args. From version 0.10 passing these as positional arguments will result in an error\n",
            "  \n"
          ]
        },
        {
          "data": {
            "image/png": "[encoded data removed]",
            "text/plain": [
              "<Figure size 432x288 with 2 Axes>"
            ]
          },
          "metadata": {
            "needs_background": "light"
          },
          "output_type": "display_data"
        }
      ],
      "source": [
        "filePath=\"UrbanSound8K/audio/fold1/101415-3-0-2.wav\"\n",
        "dirPath=os.path.dirname(os.path.realpath(filePath))\n",
        "fileName=os.path.basename(os.path.realpath(filePath))\n",
        "saveDirPath=dirPath.replace(\"audio\",\"spectogram\")\n",
        "savefileName = fileName.replace(\".wav\",\".png\")\n",
        "(audio , audioSr) = read(filePath)\n",
        "spectogram=createSpectrogram(audio , audioSr)\n",
        "spectogram.shape\n",
        "displaySpectogram(spectogram)\n",
        "spectogramSave(saveDirPath,savefileName,audio)"
      ]
    },
    {
      "cell_type": "markdown",
      "metadata": {},
      "source": [
        "Use openCV to turn spectogram grayscale, resize and normalize it; refs:\n",
        "https://techtutorialsx.com/2018/06/02/python-opencv-converting-an-image-to-gray-scale/\n"
      ]
    },
    {
      "cell_type": "code",
      "execution_count": 34,
      "metadata": {},
      "outputs": [],
      "source": [
        "currentSpectogram=cv2.imread(saveDirPath+\"/\"+savefileName)\n",
        "grayCurrentSpectogram = cv2.cvtColor(currentSpectogram, cv2.COLOR_BGR2GRAY)\n",
        "scaleFactor=2\n",
        "grayCurrentSpectogram = cv2.resize(grayCurrentSpectogram, (grayCurrentSpectogram.shape[1]*scaleFactor,grayCurrentSpectogram.shape[0]*scaleFactor),interpolation = cv2.INTER_AREA)\n",
        "cv2.imshow(\"Greyscaled spectogram \"+savefileName,grayCurrentSpectogram)\n",
        "cv2.waitKey(0)\n",
        "cv2.destroyAllWindows()"
      ]
    }
  ],
  "metadata": {
    "accelerator": "GPU",
    "colab": {
      "collapsed_sections": [],
      "provenance": []
    },
    "gpuClass": "standard",
    "kernelspec": {
      "display_name": "Python 3.6.9 64-bit",
      "language": "python",
      "name": "python3"
    },
    "language_info": {
      "codemirror_mode": {
        "name": "ipython",
        "version": 3
      },
      "file_extension": ".py",
      "mimetype": "text/x-python",
      "name": "python",
      "nbconvert_exporter": "python",
      "pygments_lexer": "ipython3",
      "version": "3.6.9"
    },
    "vscode": {
      "interpreter": {
        "hash": "31f2aee4e71d21fbe5cf8b01ff0e069b9275f58929596ceb00d14d90e3e16cd6"
      }
    }
  },
  "nbformat": 4,
  "nbformat_minor": 0
}
