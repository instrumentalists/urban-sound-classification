{
  "cells": [
    {
      "cell_type": "code",
      "execution_count": 1,
      "metadata": {
        "id": "fQOGYrzdHVMb"
      },
      "outputs": [],
      "source": [
        "import matplotlib.pyplot as plt\n",
        "import librosa\n",
        "import librosa.display\n",
        "import numpy as np\n",
        "import pandas as pd\n",
        "from google.colab.patches import cv2_imshow\n",
        "import os\n",
        "import cv2\n",
        "import IPython.display as ipd\n",
        "from IPython.display import clear_output\n",
        "%matplotlib inline"
      ]
    },
    {
      "cell_type": "code",
      "execution_count": 2,
      "metadata": {
        "colab": {
          "base_uri": "https://localhost:8080/"
        },
        "id": "MaOpl7yQJRfH",
        "outputId": "1a56f3da-5390-4a25-d04e-d2fe5d4c4c59"
      },
      "outputs": [
        {
          "name": "stdout",
          "output_type": "stream",
          "text": [
            "Drive already mounted at /content/drive; to attempt to forcibly remount, call drive.mount(\"/content/drive\", force_remount=True).\n"
          ]
        }
      ],
      "source": [
        "from google.colab import drive\n",
        "drive.mount('/content/drive')"
      ]
    },
    {
      "cell_type": "code",
      "execution_count": 3,
      "metadata": {
        "id": "dCxwmIH0HZNv"
      },
      "outputs": [],
      "source": [
        "root_path=\"/content/drive/MyDrive/spectrograms/\""
      ]
    },
    {
      "cell_type": "code",
      "execution_count": 40,
      "metadata": {
        "id": "Y9gKRJkXHjwy"
      },
      "outputs": [],
      "source": [
        "extracted_features =[]\n",
        "for root, directories, files in os.walk(root_path):\n",
        "    for file_name in files:\n",
        "        if root is not root_path and file_name.endswith('.png'):\n",
        "           data = cv2.imread(os.path.join(root,file_name), 0)\n",
        "           resized_data = cv2.resize(data, (128,128))\n",
        "           #NORMALIZATION\n",
        "           resized_data=resized_data/255\n",
        "           label=int(os.path.basename(os.path.normpath(root)))\n",
        "           extracted_features.append([resized_data,label])"
      ]
    },
    {
      "cell_type": "code",
      "execution_count": 41,
      "metadata": {
        "colab": {
          "base_uri": "https://localhost:8080/",
          "height": 206
        },
        "id": "mx9wZuTJMeAG",
        "outputId": "4c5515b2-12ac-48b1-ddaf-dda8e0f09cef"
      },
      "outputs": [
        {
          "data": {
            "text/html": [
              "\n",
              "  <div id=\"df-f313cc24-6a0c-454b-9532-6cc31665470a\">\n",
              "    <div class=\"colab-df-container\">\n",
              "      <div>\n",
              "<style scoped>\n",
              "    .dataframe tbody tr th:only-of-type {\n",
              "        vertical-align: middle;\n",
              "    }\n",
              "\n",
              "    .dataframe tbody tr th {\n",
              "        vertical-align: top;\n",
              "    }\n",
              "\n",
              "    .dataframe thead th {\n",
              "        text-align: right;\n",
              "    }\n",
              "</style>\n",
              "<table border=\"1\" class=\"dataframe\">\n",
              "  <thead>\n",
              "    <tr style=\"text-align: right;\">\n",
              "      <th></th>\n",
              "      <th>features</th>\n",
              "      <th>class</th>\n",
              "    </tr>\n",
              "  </thead>\n",
              "  <tbody>\n",
              "    <tr>\n",
              "      <th>0</th>\n",
              "      <td>[[1.0, 0.0, 0.0, 0.0, 0.0, 0.0, 0.0, 0.0, 0.0,...</td>\n",
              "      <td>6</td>\n",
              "    </tr>\n",
              "    <tr>\n",
              "      <th>1</th>\n",
              "      <td>[[1.0, 0.0, 0.0, 0.0, 0.0, 0.0, 0.0, 0.0, 0.0,...</td>\n",
              "      <td>6</td>\n",
              "    </tr>\n",
              "    <tr>\n",
              "      <th>2</th>\n",
              "      <td>[[1.0, 0.0, 0.0, 0.0, 0.0, 0.0, 0.0, 0.0, 0.0,...</td>\n",
              "      <td>6</td>\n",
              "    </tr>\n",
              "    <tr>\n",
              "      <th>3</th>\n",
              "      <td>[[1.0, 0.0, 0.0, 0.0, 0.0, 0.0, 0.0, 0.0, 0.0,...</td>\n",
              "      <td>6</td>\n",
              "    </tr>\n",
              "    <tr>\n",
              "      <th>4</th>\n",
              "      <td>[[1.0, 0.0, 0.0, 0.0, 0.0, 0.0, 0.0, 0.0, 0.0,...</td>\n",
              "      <td>6</td>\n",
              "    </tr>\n",
              "  </tbody>\n",
              "</table>\n",
              "</div>\n",
              "      <button class=\"colab-df-convert\" onclick=\"convertToInteractive('df-f313cc24-6a0c-454b-9532-6cc31665470a')\"\n",
              "              title=\"Convert this dataframe to an interactive table.\"\n",
              "              style=\"display:none;\">\n",
              "        \n",
              "  <svg xmlns=\"http://www.w3.org/2000/svg\" height=\"24px\"viewBox=\"0 0 24 24\"\n",
              "       width=\"24px\">\n",
              "    <path d=\"M0 0h24v24H0V0z\" fill=\"none\"/>\n",
              "    <path d=\"M18.56 5.44l.94 2.06.94-2.06 2.06-.94-2.06-.94-.94-2.06-.94 2.06-2.06.94zm-11 1L8.5 8.5l.94-2.06 2.06-.94-2.06-.94L8.5 2.5l-.94 2.06-2.06.94zm10 10l.94 2.06.94-2.06 2.06-.94-2.06-.94-.94-2.06-.94 2.06-2.06.94z\"/><path d=\"M17.41 7.96l-1.37-1.37c-.4-.4-.92-.59-1.43-.59-.52 0-1.04.2-1.43.59L10.3 9.45l-7.72 7.72c-.78.78-.78 2.05 0 2.83L4 21.41c.39.39.9.59 1.41.59.51 0 1.02-.2 1.41-.59l7.78-7.78 2.81-2.81c.8-.78.8-2.07 0-2.86zM5.41 20L4 18.59l7.72-7.72 1.47 1.35L5.41 20z\"/>\n",
              "  </svg>\n",
              "      </button>\n",
              "      \n",
              "  <style>\n",
              "    .colab-df-container {\n",
              "      display:flex;\n",
              "      flex-wrap:wrap;\n",
              "      gap: 12px;\n",
              "    }\n",
              "\n",
              "    .colab-df-convert {\n",
              "      background-color: #E8F0FE;\n",
              "      border: none;\n",
              "      border-radius: 50%;\n",
              "      cursor: pointer;\n",
              "      display: none;\n",
              "      fill: #1967D2;\n",
              "      height: 32px;\n",
              "      padding: 0 0 0 0;\n",
              "      width: 32px;\n",
              "    }\n",
              "\n",
              "    .colab-df-convert:hover {\n",
              "      background-color: #E2EBFA;\n",
              "      box-shadow: 0px 1px 2px rgba(60, 64, 67, 0.3), 0px 1px 3px 1px rgba(60, 64, 67, 0.15);\n",
              "      fill: #174EA6;\n",
              "    }\n",
              "\n",
              "    [theme=dark] .colab-df-convert {\n",
              "      background-color: #3B4455;\n",
              "      fill: #D2E3FC;\n",
              "    }\n",
              "\n",
              "    [theme=dark] .colab-df-convert:hover {\n",
              "      background-color: #434B5C;\n",
              "      box-shadow: 0px 1px 3px 1px rgba(0, 0, 0, 0.15);\n",
              "      filter: drop-shadow(0px 1px 2px rgba(0, 0, 0, 0.3));\n",
              "      fill: #FFFFFF;\n",
              "    }\n",
              "  </style>\n",
              "\n",
              "      <script>\n",
              "        const buttonEl =\n",
              "          document.querySelector('#df-f313cc24-6a0c-454b-9532-6cc31665470a button.colab-df-convert');\n",
              "        buttonEl.style.display =\n",
              "          google.colab.kernel.accessAllowed ? 'block' : 'none';\n",
              "\n",
              "        async function convertToInteractive(key) {\n",
              "          const element = document.querySelector('#df-f313cc24-6a0c-454b-9532-6cc31665470a');\n",
              "          const dataTable =\n",
              "            await google.colab.kernel.invokeFunction('convertToInteractive',\n",
              "                                                     [key], {});\n",
              "          if (!dataTable) return;\n",
              "\n",
              "          const docLinkHtml = 'Like what you see? Visit the ' +\n",
              "            '<a target=\"_blank\" href=https://colab.research.google.com/notebooks/data_table.ipynb>data table notebook</a>'\n",
              "            + ' to learn more about interactive tables.';\n",
              "          element.innerHTML = '';\n",
              "          dataTable['output_type'] = 'display_data';\n",
              "          await google.colab.output.renderOutput(dataTable, element);\n",
              "          const docLink = document.createElement('div');\n",
              "          docLink.innerHTML = docLinkHtml;\n",
              "          element.appendChild(docLink);\n",
              "        }\n",
              "      </script>\n",
              "    </div>\n",
              "  </div>\n",
              "  "
            ],
            "text/plain": [
              "                                            features  class\n",
              "0  [[1.0, 0.0, 0.0, 0.0, 0.0, 0.0, 0.0, 0.0, 0.0,...      6\n",
              "1  [[1.0, 0.0, 0.0, 0.0, 0.0, 0.0, 0.0, 0.0, 0.0,...      6\n",
              "2  [[1.0, 0.0, 0.0, 0.0, 0.0, 0.0, 0.0, 0.0, 0.0,...      6\n",
              "3  [[1.0, 0.0, 0.0, 0.0, 0.0, 0.0, 0.0, 0.0, 0.0,...      6\n",
              "4  [[1.0, 0.0, 0.0, 0.0, 0.0, 0.0, 0.0, 0.0, 0.0,...      6"
            ]
          },
          "execution_count": 41,
          "metadata": {},
          "output_type": "execute_result"
        }
      ],
      "source": [
        "extracted_features_dataframe= pd.DataFrame(extracted_features, columns=[\"features\", \"class\"])\n",
        "extracted_features_dataframe.head()"
      ]
    },
    {
      "cell_type": "code",
      "execution_count": 42,
      "metadata": {
        "colab": {
          "base_uri": "https://localhost:8080/"
        },
        "id": "FLiGKXhtVnQD",
        "outputId": "136c7e47-0c38-4356-c005-2b3923a7e098"
      },
      "outputs": [
        {
          "name": "stdout",
          "output_type": "stream",
          "text": [
            "<class 'pandas.core.frame.DataFrame'>\n",
            "RangeIndex: 8732 entries, 0 to 8731\n",
            "Data columns (total 2 columns):\n",
            " #   Column    Non-Null Count  Dtype \n",
            "---  ------    --------------  ----- \n",
            " 0   features  8732 non-null   object\n",
            " 1   class     8732 non-null   int64 \n",
            "dtypes: int64(1), object(1)\n",
            "memory usage: 136.6+ KB\n"
          ]
        }
      ],
      "source": [
        "extracted_features_dataframe.info()"
      ]
    },
    {
      "cell_type": "code",
      "execution_count": 43,
      "metadata": {
        "colab": {
          "base_uri": "https://localhost:8080/"
        },
        "id": "ZBwOyJeZVq4f",
        "outputId": "8704e420-7fa3-4f5d-d325-177a93f3f70f"
      },
      "outputs": [
        {
          "data": {
            "text/plain": [
              "5    1000\n",
              "2    1000\n",
              "3    1000\n",
              "9    1000\n",
              "0    1000\n",
              "4    1000\n",
              "7    1000\n",
              "8     929\n",
              "1     429\n",
              "6     374\n",
              "Name: class, dtype: int64"
            ]
          },
          "execution_count": 43,
          "metadata": {},
          "output_type": "execute_result"
        }
      ],
      "source": [
        "extracted_features_dataframe[\"class\"].value_counts()"
      ]
    },
    {
      "cell_type": "code",
      "execution_count": 44,
      "metadata": {
        "id": "7EWPDyNmMx7Z"
      },
      "outputs": [],
      "source": [
        "X=np.array(extracted_features_dataframe['features'].tolist())\n",
        "Y=np.array(extracted_features_dataframe['class'].tolist())"
      ]
    },
    {
      "cell_type": "code",
      "execution_count": 45,
      "metadata": {
        "id": "tpKad6KCM1uN"
      },
      "outputs": [],
      "source": [
        "from sklearn.model_selection import train_test_split\n",
        "x_train, x_temp, y_train, y_temp= train_test_split(X,Y, test_size=0.2, random_state=0)"
      ]
    },
    {
      "cell_type": "code",
      "execution_count": 46,
      "metadata": {
        "id": "RS8HZQ7EM32V"
      },
      "outputs": [],
      "source": [
        "x_test, x_val, y_test, y_val=train_test_split(x_temp, y_temp, test_size=0.5, random_state=42)"
      ]
    },
    {
      "cell_type": "markdown",
      "metadata": {
        "id": "VX16NjnrODmb"
      },
      "source": [
        "MODEL CREATING"
      ]
    },
    {
      "cell_type": "code",
      "execution_count": 47,
      "metadata": {
        "id": "y92EkqwAOCnj"
      },
      "outputs": [],
      "source": [
        "import tensorflow as tf\n",
        "from tensorflow.keras.callbacks import ModelCheckpoint, EarlyStopping,CSVLogger\n",
        "from tensorflow.keras.models import Sequential, load_model\n",
        "from tensorflow.keras.layers import Dense,Dropout,Activation,Flatten, Conv2D, MaxPooling2D\n",
        "from tensorflow.keras.optimizers import Adam\n",
        "from sklearn import metrics"
      ]
    },
    {
      "cell_type": "code",
      "execution_count": 48,
      "metadata": {
        "id": "0I178-hUOLND"
      },
      "outputs": [],
      "source": [
        "model=tf.keras.Sequential()"
      ]
    },
    {
      "cell_type": "code",
      "execution_count": 49,
      "metadata": {
        "id": "wzN-owBUOPSb"
      },
      "outputs": [],
      "source": [
        "model.add(Conv2D(32, (3, 3), activation='relu', input_shape=(128,128,1)))\n",
        "model.add(MaxPooling2D((2, 2)))\n",
        "model.add(Conv2D(64, (3, 3), activation='relu'))\n",
        "model.add(MaxPooling2D((2, 2)))\n",
        "model.add(Conv2D(64, (3, 3), activation='relu'))\n",
        "model.add(Flatten())\n",
        "model.add(Dense(64, activation='relu'))\n",
        "model.add(Dense(10,activation='softmax'))"
      ]
    },
    {
      "cell_type": "code",
      "execution_count": 50,
      "metadata": {
        "id": "23TVyTc2QdUN"
      },
      "outputs": [],
      "source": [
        "# Compile the model\n",
        "model.compile(optimizer=\"adam\",\n",
        "              loss=\"sparse_categorical_crossentropy\",\n",
        "              metrics=[\"accuracy\"])"
      ]
    },
    {
      "cell_type": "code",
      "execution_count": 52,
      "metadata": {
        "colab": {
          "base_uri": "https://localhost:8080/"
        },
        "id": "n7wVpyyXRAI5",
        "outputId": "cf855a43-9f9d-4881-9633-8d588d950d12"
      },
      "outputs": [
        {
          "name": "stdout",
          "output_type": "stream",
          "text": [
            "Epoch 1/50\n",
            "55/55 [==============================] - 16s 79ms/step - loss: 1.4734 - accuracy: 0.4750 - val_loss: 1.0318 - val_accuracy: 0.6693\n",
            "Epoch 2/50\n",
            "55/55 [==============================] - 3s 60ms/step - loss: 0.8484 - accuracy: 0.7198 - val_loss: 0.7353 - val_accuracy: 0.7860\n",
            "Epoch 3/50\n",
            "55/55 [==============================] - 3s 60ms/step - loss: 0.6142 - accuracy: 0.8149 - val_loss: 0.6165 - val_accuracy: 0.8124\n",
            "Epoch 4/50\n",
            "55/55 [==============================] - 3s 60ms/step - loss: 0.4389 - accuracy: 0.8633 - val_loss: 0.5933 - val_accuracy: 0.8318\n",
            "Epoch 5/50\n",
            "55/55 [==============================] - 3s 60ms/step - loss: 0.3002 - accuracy: 0.9078 - val_loss: 0.4840 - val_accuracy: 0.8604\n",
            "Epoch 6/50\n",
            "55/55 [==============================] - 3s 60ms/step - loss: 0.1953 - accuracy: 0.9414 - val_loss: 0.5893 - val_accuracy: 0.8524\n",
            "Epoch 7/50\n",
            "55/55 [==============================] - 3s 60ms/step - loss: 0.1277 - accuracy: 0.9625 - val_loss: 0.5670 - val_accuracy: 0.8741\n",
            "Epoch 8/50\n",
            "55/55 [==============================] - 3s 60ms/step - loss: 0.0899 - accuracy: 0.9747 - val_loss: 0.5784 - val_accuracy: 0.8421\n",
            "Epoch 9/50\n",
            "55/55 [==============================] - 3s 60ms/step - loss: 0.0689 - accuracy: 0.9802 - val_loss: 0.6168 - val_accuracy: 0.8684\n",
            "Epoch 10/50\n",
            "55/55 [==============================] - 3s 60ms/step - loss: 0.0598 - accuracy: 0.9850 - val_loss: 0.6419 - val_accuracy: 0.8696\n",
            "Epoch 11/50\n",
            "55/55 [==============================] - 3s 60ms/step - loss: 0.0331 - accuracy: 0.9916 - val_loss: 0.7169 - val_accuracy: 0.8638\n",
            "Epoch 12/50\n",
            "55/55 [==============================] - 3s 60ms/step - loss: 0.0327 - accuracy: 0.9916 - val_loss: 0.7455 - val_accuracy: 0.8638\n",
            "Epoch 13/50\n",
            "55/55 [==============================] - 3s 60ms/step - loss: 0.0305 - accuracy: 0.9908 - val_loss: 0.7477 - val_accuracy: 0.8616\n",
            "Epoch 14/50\n",
            "55/55 [==============================] - 3s 61ms/step - loss: 0.0337 - accuracy: 0.9924 - val_loss: 0.8385 - val_accuracy: 0.8616\n",
            "Epoch 15/50\n",
            "55/55 [==============================] - 4s 65ms/step - loss: 0.0286 - accuracy: 0.9926 - val_loss: 0.8362 - val_accuracy: 0.8570\n",
            "Epoch 16/50\n",
            "55/55 [==============================] - 3s 61ms/step - loss: 0.0597 - accuracy: 0.9828 - val_loss: 0.7779 - val_accuracy: 0.8375\n",
            "Epoch 17/50\n",
            "55/55 [==============================] - 3s 60ms/step - loss: 0.0211 - accuracy: 0.9943 - val_loss: 0.8824 - val_accuracy: 0.8570\n",
            "Epoch 18/50\n",
            "55/55 [==============================] - 3s 60ms/step - loss: 0.0102 - accuracy: 0.9973 - val_loss: 0.8793 - val_accuracy: 0.8547\n",
            "Epoch 19/50\n",
            "55/55 [==============================] - 3s 60ms/step - loss: 0.0091 - accuracy: 0.9983 - val_loss: 0.8736 - val_accuracy: 0.8524\n",
            "Epoch 20/50\n",
            "55/55 [==============================] - 3s 61ms/step - loss: 0.0079 - accuracy: 0.9980 - val_loss: 0.8642 - val_accuracy: 0.8673\n",
            "Epoch 21/50\n",
            "55/55 [==============================] - 3s 60ms/step - loss: 0.0043 - accuracy: 0.9991 - val_loss: 0.8478 - val_accuracy: 0.8661\n",
            "Epoch 22/50\n",
            "55/55 [==============================] - 3s 60ms/step - loss: 0.0043 - accuracy: 0.9990 - val_loss: 0.8725 - val_accuracy: 0.8753\n",
            "Epoch 23/50\n",
            "55/55 [==============================] - 3s 60ms/step - loss: 0.0072 - accuracy: 0.9984 - val_loss: 0.8191 - val_accuracy: 0.8661\n",
            "Epoch 24/50\n",
            "55/55 [==============================] - 3s 60ms/step - loss: 0.0064 - accuracy: 0.9986 - val_loss: 0.8120 - val_accuracy: 0.8638\n",
            "Epoch 25/50\n",
            "55/55 [==============================] - 3s 60ms/step - loss: 0.0044 - accuracy: 0.9989 - val_loss: 0.8793 - val_accuracy: 0.8650\n",
            "Epoch 26/50\n",
            "55/55 [==============================] - 3s 60ms/step - loss: 0.0048 - accuracy: 0.9989 - val_loss: 0.8469 - val_accuracy: 0.8650\n",
            "Epoch 27/50\n",
            "55/55 [==============================] - 3s 60ms/step - loss: 0.0060 - accuracy: 0.9990 - val_loss: 0.8543 - val_accuracy: 0.8730\n",
            "Epoch 28/50\n",
            "55/55 [==============================] - 3s 61ms/step - loss: 0.0049 - accuracy: 0.9990 - val_loss: 0.9004 - val_accuracy: 0.8707\n",
            "Epoch 29/50\n",
            "55/55 [==============================] - 3s 60ms/step - loss: 0.0038 - accuracy: 0.9986 - val_loss: 0.9140 - val_accuracy: 0.8627\n",
            "Epoch 30/50\n",
            "55/55 [==============================] - 3s 60ms/step - loss: 0.0047 - accuracy: 0.9990 - val_loss: 0.9638 - val_accuracy: 0.8570\n",
            "Epoch 31/50\n",
            "55/55 [==============================] - 3s 61ms/step - loss: 0.0104 - accuracy: 0.9976 - val_loss: 0.9039 - val_accuracy: 0.8696\n",
            "Epoch 32/50\n",
            "55/55 [==============================] - 3s 60ms/step - loss: 0.0043 - accuracy: 0.9994 - val_loss: 0.9869 - val_accuracy: 0.8547\n",
            "Epoch 33/50\n",
            "55/55 [==============================] - 3s 60ms/step - loss: 0.0065 - accuracy: 0.9991 - val_loss: 0.9525 - val_accuracy: 0.8650\n",
            "Epoch 34/50\n",
            "55/55 [==============================] - 3s 60ms/step - loss: 0.0048 - accuracy: 0.9990 - val_loss: 0.9161 - val_accuracy: 0.8673\n",
            "Epoch 35/50\n",
            "55/55 [==============================] - 3s 60ms/step - loss: 0.0038 - accuracy: 0.9994 - val_loss: 0.8760 - val_accuracy: 0.8696\n",
            "Epoch 36/50\n",
            "55/55 [==============================] - 3s 61ms/step - loss: 0.0070 - accuracy: 0.9981 - val_loss: 1.1302 - val_accuracy: 0.8490\n",
            "Epoch 37/50\n",
            "55/55 [==============================] - 3s 61ms/step - loss: 0.0606 - accuracy: 0.9825 - val_loss: 0.9334 - val_accuracy: 0.8192\n",
            "Epoch 38/50\n",
            "55/55 [==============================] - 3s 63ms/step - loss: 0.0881 - accuracy: 0.9741 - val_loss: 0.8355 - val_accuracy: 0.8341\n",
            "Epoch 39/50\n",
            "55/55 [==============================] - 3s 60ms/step - loss: 0.0302 - accuracy: 0.9921 - val_loss: 0.9543 - val_accuracy: 0.8421\n",
            "Epoch 40/50\n",
            "55/55 [==============================] - 3s 60ms/step - loss: 0.0363 - accuracy: 0.9904 - val_loss: 0.9212 - val_accuracy: 0.8410\n",
            "Epoch 41/50\n",
            "55/55 [==============================] - 3s 61ms/step - loss: 0.0250 - accuracy: 0.9946 - val_loss: 0.8461 - val_accuracy: 0.8478\n",
            "Epoch 42/50\n",
            "55/55 [==============================] - 3s 60ms/step - loss: 0.0089 - accuracy: 0.9973 - val_loss: 0.9129 - val_accuracy: 0.8558\n",
            "Epoch 43/50\n",
            "55/55 [==============================] - 3s 60ms/step - loss: 0.0031 - accuracy: 0.9993 - val_loss: 0.8956 - val_accuracy: 0.8547\n",
            "Epoch 44/50\n",
            "55/55 [==============================] - 3s 60ms/step - loss: 0.0035 - accuracy: 0.9989 - val_loss: 0.9055 - val_accuracy: 0.8467\n",
            "Epoch 45/50\n",
            "55/55 [==============================] - 3s 61ms/step - loss: 0.0028 - accuracy: 0.9991 - val_loss: 0.9592 - val_accuracy: 0.8593\n",
            "Epoch 46/50\n",
            "55/55 [==============================] - 3s 60ms/step - loss: 0.0025 - accuracy: 0.9996 - val_loss: 0.9211 - val_accuracy: 0.8535\n",
            "Epoch 47/50\n",
            "55/55 [==============================] - 3s 61ms/step - loss: 0.0016 - accuracy: 0.9996 - val_loss: 0.9173 - val_accuracy: 0.8513\n",
            "Epoch 48/50\n",
            "55/55 [==============================] - 3s 61ms/step - loss: 0.0023 - accuracy: 0.9994 - val_loss: 0.8989 - val_accuracy: 0.8558\n",
            "Epoch 49/50\n",
            "55/55 [==============================] - 3s 61ms/step - loss: 0.0034 - accuracy: 0.9990 - val_loss: 0.9190 - val_accuracy: 0.8570\n",
            "Epoch 50/50\n",
            "55/55 [==============================] - 3s 60ms/step - loss: 0.0023 - accuracy: 0.9991 - val_loss: 0.9136 - val_accuracy: 0.8558\n"
          ]
        }
      ],
      "source": [
        "results=model.fit(x_train,y_train,\n",
        "                  batch_size=128,\n",
        "                  epochs=50,\n",
        "                  validation_data=(x_val,y_val))"
      ]
    },
    {
      "cell_type": "code",
      "execution_count": 53,
      "metadata": {
        "colab": {
          "base_uri": "https://localhost:8080/",
          "height": 279
        },
        "id": "6Ikhw_1IRB8w",
        "outputId": "7be89cbc-21f3-42c3-dcbb-fad5014eff8f"
      },
      "outputs": [
        {
          "data": {
            "image/png": "[encoded data removed]",
            "text/plain": [
              "<Figure size 432x288 with 1 Axes>"
            ]
          },
          "metadata": {
            "needs_background": "light"
          },
          "output_type": "display_data"
        }
      ],
      "source": [
        "plt.plot(results.history[\"loss\"],label=\"loss\")\n",
        "plt.plot(results.history[\"val_loss\"],label=\"val_loss\")\n",
        "plt.xlabel(\"Epoch\")\n",
        "plt.ylabel(\"Loss\")\n",
        "plt.legend()\n",
        "plt.show()"
      ]
    },
    {
      "cell_type": "code",
      "execution_count": 54,
      "metadata": {
        "colab": {
          "base_uri": "https://localhost:8080/",
          "height": 279
        },
        "id": "LlTSenpORKF7",
        "outputId": "a89d2279-33d5-4c83-a574-0a18b3c10952"
      },
      "outputs": [
        {
          "data": {
            "image/png": "[encoded data removed]",
            "text/plain": [
              "<Figure size 432x288 with 1 Axes>"
            ]
          },
          "metadata": {
            "needs_background": "light"
          },
          "output_type": "display_data"
        }
      ],
      "source": [
        "plt.plot(results.history[\"accuracy\"],label=\"accuracy\")\n",
        "plt.plot(results.history[\"val_accuracy\"],label=\"val_accuracy\")\n",
        "plt.xlabel(\"Epoch\")\n",
        "plt.ylabel(\"Accuracy\")\n",
        "plt.legend()\n",
        "plt.show()"
      ]
    },
    {
      "cell_type": "code",
      "execution_count": 55,
      "metadata": {
        "colab": {
          "base_uri": "https://localhost:8080/"
        },
        "id": "0qkb4WL8RPUD",
        "outputId": "dcc6aa43-7b13-427b-cee0-9efc7ea2bc95"
      },
      "outputs": [
        {
          "name": "stdout",
          "output_type": "stream",
          "text": [
            "28/28 [==============================] - 1s 12ms/step - loss: 0.8323 - accuracy: 0.8603\n"
          ]
        },
        {
          "data": {
            "text/plain": [
              "[0.8322645425796509, 0.8602520227432251]"
            ]
          },
          "execution_count": 55,
          "metadata": {},
          "output_type": "execute_result"
        }
      ],
      "source": [
        "model.evaluate(x_test,y_test)"
      ]
    },
    {
      "cell_type": "code",
      "execution_count": 56,
      "metadata": {
        "colab": {
          "base_uri": "https://localhost:8080/"
        },
        "id": "x5UntLPYRRiQ",
        "outputId": "30b5a0fa-4fbc-44ff-f716-15b5ed9d3867"
      },
      "outputs": [
        {
          "name": "stdout",
          "output_type": "stream",
          "text": [
            "[[9.9998116e-01 1.0754795e-13 2.5540483e-11 1.6457048e-12 1.0305884e-09\n",
            "  7.6521825e-18 6.2632657e-15 7.0316625e-10 2.4495239e-07 1.8640274e-05]]\n"
          ]
        }
      ],
      "source": [
        "# Make prediction on the reshaped sample\n",
        "prediction_result=model.predict(x_test[789].reshape(1,128,128,1))\n",
        "\n",
        "# Print the prediction result\n",
        "print(prediction_result)"
      ]
    },
    {
      "cell_type": "code",
      "execution_count": 57,
      "metadata": {
        "id": "9WXwi2vBUGkZ"
      },
      "outputs": [],
      "source": [
        "# Find the predicted class\n",
        "predicted_class=prediction_result.argmax()\n",
        "# Find the prediction probability\n",
        "predicted_probability=prediction_result.max()"
      ]
    },
    {
      "cell_type": "code",
      "execution_count": 60,
      "metadata": {
        "colab": {
          "base_uri": "https://localhost:8080/"
        },
        "id": "3B0yCpj3UHSo",
        "outputId": "3f561f83-f390-4df4-9c0a-d61cfe3333c6"
      },
      "outputs": [
        {
          "name": "stdout",
          "output_type": "stream",
          "text": [
            "Image Class:  0 Predicted Class:  0 with the 0.99998116 % probability\n"
          ]
        }
      ],
      "source": [
        "# Print the results\n",
        "print(\"Image Class: \", y_test[789],\"Predicted Class: \", predicted_class, \"with the\", predicted_probability, \"% probability\")"
      ]
    }
  ],
  "metadata": {
    "accelerator": "GPU",
    "colab": {
      "collapsed_sections": [],
      "provenance": []
    },
    "kernelspec": {
      "display_name": "Python 3.8.10 64-bit",
      "language": "python",
      "name": "python3"
    },
    "language_info": {
      "name": "python",
      "version": "3.8.10"
    },
    "vscode": {
      "interpreter": {
        "hash": "570feb405e2e27c949193ac68f46852414290d515b0ba6e5d90d076ed2284471"
      }
    }
  },
  "nbformat": 4,
  "nbformat_minor": 0
}
