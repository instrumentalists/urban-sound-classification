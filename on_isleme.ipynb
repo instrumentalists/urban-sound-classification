{
 "cells": [
  {
   "cell_type": "markdown",
   "metadata": {},
   "source": [
    "**IMPORT LIBRARIES**"
   ]
  },
  {
   "cell_type": "code",
   "execution_count": 1,
   "metadata": {},
   "outputs": [
    {
     "name": "stderr",
     "output_type": "stream",
     "text": [
      "C:\\Users\\sarib\\AppData\\Roaming\\Python\\Python38\\site-packages\\numpy\\_distributor_init.py:30: UserWarning: loaded more than 1 DLL from .libs:\n",
      "C:\\Users\\sarib\\AppData\\Roaming\\Python\\Python38\\site-packages\\numpy\\.libs\\libopenblas.WCDJNK7YVMPZQ2ME2ZZHJJRJ3JIKNDB7.gfortran-win_amd64.dll\n",
      "C:\\Users\\sarib\\AppData\\Roaming\\Python\\Python38\\site-packages\\numpy\\.libs\\libopenblas.XWYDX2IKJW2NMTWSFYNGFUWKQU3LYTCZ.gfortran-win_amd64.dll\n",
      "  warnings.warn(\"loaded more than 1 DLL from .libs:\"\n"
     ]
    }
   ],
   "source": [
    "import matplotlib.pyplot as plt\n",
    "import librosa\n",
    "import librosa.display\n",
    "import numpy as np\n",
    "import os\n",
    "import IPython.display as ipd\n",
    "%matplotlib inline\n",
    "from warnings import simplefilter\n",
    "import absl.logging\n",
    "absl.logging.set_verbosity(absl.logging.ERROR)\n",
    "simplefilter(action='ignore', category=FutureWarning)"
   ]
  },
  {
   "cell_type": "code",
   "execution_count": 118,
   "metadata": {},
   "outputs": [],
   "source": [
    "root_path=\"UrbanSound8K/audio/\"\n",
    "image_path=\"UrbanSound8K/image/\""
   ]
  },
  {
   "cell_type": "markdown",
   "metadata": {},
   "source": [
    "**CREATE SPECTRGOGRAM**"
   ]
  },
  {
   "cell_type": "code",
   "execution_count": 117,
   "metadata": {},
   "outputs": [],
   "source": [
    "def get_spectrogram(file):\n",
    "    signal, sample_rate = librosa.load(file)\n",
    "    spec_conv = librosa.amplitude_to_db(librosa.feature.melspectrogram(signal),ref=np.max)\n",
    "    return spec_conv"
   ]
  },
  {
   "cell_type": "markdown",
   "metadata": {},
   "source": [
    "**SAVE SPECTROGRAM IMAGES**"
   ]
  },
  {
   "cell_type": "code",
   "execution_count": 121,
   "metadata": {},
   "outputs": [],
   "source": [
    "for root, directories, files in os.walk(root_path):\n",
    "    for file_name in files:\n",
    "        if root is not root_path and file_name.endswith('.wav'):\n",
    "           data = get_spectrogram(os.path.join(root,file_name))\n",
    "           #print(os.path.basename(os.path.normpath(root)))\n",
    "           librosa.display.specshow(data)\n",
    "           file_path=os.path.join(image_path,os.path.basename(os.path.normpath(root)),os.path.splitext(file_name)[0])\n",
    "           plt.savefig(file_path)"
   ]
  },
  {
   "cell_type": "markdown",
   "metadata": {},
   "source": [
    "IT TAKES MUCH TIME, LATER ON WE CAN DO WHAT WE DID AT THE START OF THE SECOND WORKBOOK TO CARRYOUT GETTING TRAIN, VALIDATION AND TEST SETS. PLEASE GO 2ND NOTEBOOK WHERE WE USED THE PREPROCESSED SPECTOGRAMS YOU PROVIDED WITH US."
   ]
  }
 ],
 "metadata": {
  "kernelspec": {
   "display_name": "Python 3.8.10 64-bit",
   "language": "python",
   "name": "python3"
  },
  "language_info": {
   "codemirror_mode": {
    "name": "ipython",
    "version": 3
   },
   "file_extension": ".py",
   "mimetype": "text/x-python",
   "name": "python",
   "nbconvert_exporter": "python",
   "pygments_lexer": "ipython3",
   "version": "3.8.10"
  },
  "orig_nbformat": 4,
  "vscode": {
   "interpreter": {
    "hash": "570feb405e2e27c949193ac68f46852414290d515b0ba6e5d90d076ed2284471"
   }
  }
 },
 "nbformat": 4,
 "nbformat_minor": 2
}
